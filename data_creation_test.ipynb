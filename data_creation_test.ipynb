{
 "cells": [
  {
   "cell_type": "markdown",
   "metadata": {},
   "source": [
    "We want to create a database of N powergrids based on either IEEE 14, 118 or rteXX. Using these already existing networks we add small perturbation on the power P and reactive power Q (Normal, Uniform, indicator ...) on buses that are generators or loads. The goal is to then create a data base of N powergrids stored as npy files. \n",
    "\n",
    "- We want to parallelize on cpu\n",
    "- We want to incorporate non constant power\n"
   ]
  },
  {
   "cell_type": "code",
   "execution_count": 3,
   "metadata": {},
   "outputs": [],
   "source": [
    "#python 3.10\n",
    "#!pip install 'pandapower[all]'\n",
    "#!pip install matplotlib\n",
    "#!pip install numba"
   ]
  },
  {
   "cell_type": "code",
   "execution_count": null,
   "metadata": {},
   "outputs": [
    {
     "data": {
      "text/plain": [
       "'/home/pikoglu/Luxembourg/PowerFlow'"
      ]
     },
     "execution_count": 10,
     "metadata": {},
     "output_type": "execute_result"
    }
   ],
   "source": [
    "import pandapower as pp\n",
    "import numpy as np\n",
    "from tqdm import tqdm\n",
    "import copy\n",
    "import multiprocessing as mp\n",
    "import os\n",
    "from functools import partial\n",
    "import time\n",
    "import math\n",
    "\n",
    "os.getcwd()\n"
   ]
  },
  {
   "cell_type": "code",
   "execution_count": null,
   "metadata": {},
   "outputs": [],
   "source": [
    "\n",
    "def generate_single_grid(base_case, sample_id, rng_seed, perturbation_factor=0.1):\n",
    "\n",
    "    local_rng = np.random.default_rng(rng_seed + sample_id)\n",
    "    \n",
    "    net_sample = copy.deepcopy(base_case)\n",
    "    \n",
    "    # generator perturbation (only on active power)\n",
    "    if len(net_sample.gen) > 0:\n",
    "        net_sample.gen[\"p_mw\"] = local_rng.normal(\n",
    "            net_sample.gen[\"p_mw\"].values,\n",
    "            perturbation_factor * np.abs(net_sample.gen[\"p_mw\"].values)\n",
    "        )\n",
    "    \n",
    "    # load perturbation (active and reactive power)\n",
    "    if len(net_sample.load) > 0:\n",
    "        net_sample.load[\"p_mw\"] = local_rng.normal(\n",
    "            net_sample.load[\"p_mw\"].values,\n",
    "            perturbation_factor * np.abs(net_sample.load[\"p_mw\"].values)\n",
    "        )\n",
    "        net_sample.load[\"q_mvar\"] = local_rng.normal(\n",
    "            net_sample.load[\"q_mvar\"].values,\n",
    "            perturbation_factor * np.abs(net_sample.load[\"q_mvar\"].values)\n",
    "        )\n",
    "    \n",
    "    # solving power flow using the Newton-Raphson method and checking convergence\n",
    "    try:\n",
    "        pp.runpp(net_sample)\n",
    "        if net_sample[\"converged\"]:\n",
    "            \n",
    "            bus_data = net_sample.res_bus[[\"vm_pu\", \"p_mw\", \"q_mvar\"]].values\n",
    "            line_data = net_sample.res_line[[\"p_from_mw\", \"q_from_mvar\", \"p_to_mw\", \"q_to_mvar\"]].values\n",
    "            return {\n",
    "                \"sample_id\": sample_id,\n",
    "                \"converged\": True,\n",
    "                \"bus_data\": bus_data,\n",
    "                \"line_data\": line_data\n",
    "            }\n",
    "        else:\n",
    "            print(f\"Sample {sample_id}: Power flow did not converge.\")\n",
    "            return {\"sample_id\": sample_id, \"converged\": False}\n",
    "    except pp.LoadflowNotConverged:\n",
    "        print(f\"Sample {sample_id}: LoadflowNotConverged exception.\")\n",
    "        return {\"sample_id\": sample_id, \"converged\": False}\n",
    "    except Exception as e:\n",
    "        print(f\"Sample {sample_id}: Unexpected error: {str(e)}\")\n",
    "        return {\"sample_id\": sample_id, \"converged\": False}"
   ]
  },
  {
   "cell_type": "code",
   "execution_count": null,
   "metadata": {},
   "outputs": [],
   "source": [
    "def save_result(result, case_name, output_dir=\"data\"):\n",
    "    \"\"\"Save the results of a single simulation if it converged\"\"\"\n",
    "    if not result[\"converged\"]:\n",
    "        return False\n",
    "    \n",
    "    sample_id = result[\"sample_id\"]\n",
    "\n",
    "    os.makedirs(output_dir, exist_ok=True)\n",
    "    \n",
    "    np.save(f\"{output_dir}/case{case_name}_sample{sample_id}_bus.npy\", result[\"bus_data\"])\n",
    "    np.save(f\"{output_dir}/case{case_name}_sample{sample_id}_line.npy\", result[\"line_data\"])\n",
    "    \n",
    "    return True"
   ]
  },
  {
   "cell_type": "code",
   "execution_count": null,
   "metadata": {},
   "outputs": [],
   "source": [
    "def generate_powergrids_parallel(base_case, n_samples, seed, perturbation_factor=0.1, n_processes=None):\n",
    "    \n",
    "    # max cores usage\n",
    "    if n_processes is None:\n",
    "        n_processes = mp.cpu_count()\n",
    "    \n",
    "    \n",
    "    # partial function with fixed arguments to pass the base_case and perturbation_factor to the worker function\n",
    "    worker_func = partial(generate_single_grid, base_case, perturbation_factor=perturbation_factor, rng_seed=seed)\n",
    "    \n",
    "    sample_ids = list(range(n_samples))\n",
    "    \n",
    "    # run  in parallel\n",
    "    with mp.Pool(processes=n_processes) as pool:\n",
    "        results = list(tqdm(pool.imap(worker_func, sample_ids), total=n_samples))\n",
    "    \n",
    "    return results\n"
   ]
  },
  {
   "cell_type": "code",
   "execution_count": null,
   "metadata": {},
   "outputs": [],
   "source": [
    "def main():\n",
    "    # Select base case\n",
    "    case_name = \"6470rte\"  # or \"118\" or your rteXX case\n",
    "    \n",
    "    if case_name == \"14\":\n",
    "        base_net = pp.networks.case14()\n",
    "    elif case_name == \"118\":\n",
    "        base_net = pp.networks.case118()\n",
    "    elif case_name == \"6470rte\":\n",
    "        base_net = pp.networks.case6470rte()\n",
    "    else:\n",
    "        raise ValueError(f\"Unsupported case name: {case_name}\")\n",
    "    \n",
    "    seed = 42\n",
    "    n_samples = 1000\n",
    "    output_dir = \"data\"\n",
    "    perturbation_factor = 0.1\n",
    "    \n",
    "    \n",
    "    results = generate_powergrids_parallel(\n",
    "        base_net, \n",
    "        n_samples, \n",
    "        seed,\n",
    "        perturbation_factor=perturbation_factor\n",
    "    )\n",
    "    \n",
    "    successful_saves = 0\n",
    "    for result in results:\n",
    "        if save_result(result, case_name, output_dir):\n",
    "            successful_saves += 1\n",
    "    \n"
   ]
  },
  {
   "cell_type": "code",
   "execution_count": 9,
   "metadata": {},
   "outputs": [
    {
     "name": "stdout",
     "output_type": "stream",
     "text": [
      "Starting parallel generation with 16 processes for 1000 samples\n"
     ]
    },
    {
     "name": "stderr",
     "output_type": "stream",
     "text": [
      "100%|██████████| 1000/1000 [00:37<00:00, 26.50it/s]\n"
     ]
    },
    {
     "name": "stdout",
     "output_type": "stream",
     "text": [
      "Generated and saved 1000 out of 1000 samples.\n",
      "Total execution time: 38.25 seconds\n"
     ]
    }
   ],
   "source": [
    "if __name__ == \"__main__\":\n",
    "    t_start = time.time()\n",
    "    main()\n",
    "    t_end = time.time()\n",
    "    print(f\"Total execution time for the script: {t_end - t_start:.2f} seconds\")"
   ]
  },
  {
   "cell_type": "markdown",
   "metadata": {},
   "source": [
    "Adding solar panel"
   ]
  },
  {
   "cell_type": "code",
   "execution_count": null,
   "metadata": {},
   "outputs": [],
   "source": [
    "def solar_power_function(time_hour, max_power, random_factor=0.2):\n",
    "    \"\"\"\n",
    "    simulate solar power output based on time of day (0-23 hours)\n",
    "    return  power in MW with some randomness !!!\n",
    "    \"\"\"\n",
    "    # the solar power curve is  zero at night, peak at noon\n",
    "    if 6 <= time_hour <= 18:  # there is sunlight \n",
    "\n",
    "        # sine curve approcimation for solar power output\n",
    "        base_output = max_power * math.sin(math.pi * (time_hour - 6) / 12)\n",
    "\n",
    "        # randomness for cloud and things like that \n",
    "        randomness = np.random.uniform(1.0 - random_factor, 1.0 + random_factor)\n",
    "        return max(0, base_output * randomness)  # Ensure non-negative\n",
    "    else:\n",
    "        return 0.0  # No solar power at night"
   ]
  },
  {
   "cell_type": "code",
   "execution_count": null,
   "metadata": {},
   "outputs": [],
   "source": [
    "def generate_single_grid_with_solar(base_case, sample_id, time_hour, rng_seed, \n",
    "                                   perturbation_factor=0.1, solar_penetration=0.5, \n",
    "                                   max_solar_power=2.0):\n",
    "    \"\"\"Generate a single perturbed powergrid with solar generation at a specific time\"\"\"\n",
    "    local_rng = np.random.default_rng(rng_seed + sample_id)\n",
    "    \n",
    "    net_sample = copy.deepcopy(base_case)\n",
    "    \n",
    "    if len(net_sample.gen) > 0:\n",
    "        net_sample.gen[\"p_mw\"] = local_rng.normal(\n",
    "            net_sample.gen[\"p_mw\"].values,\n",
    "            perturbation_factor * np.abs(net_sample.gen[\"p_mw\"].values)\n",
    "        )\n",
    "    \n",
    "    if len(net_sample.load) > 0:\n",
    "        net_sample.load[\"p_mw\"] = local_rng.normal(\n",
    "            net_sample.load[\"p_mw\"].values,\n",
    "            perturbation_factor * np.abs(net_sample.load[\"p_mw\"].values)\n",
    "        )\n",
    "        net_sample.load[\"q_mvar\"] = local_rng.normal(\n",
    "            net_sample.load[\"q_mvar\"].values,\n",
    "            perturbation_factor * np.abs(net_sample.load[\"q_mvar\"].values)\n",
    "        )\n",
    "    \n",
    "    num_buses = len(net_sample.bus)\n",
    "    \n",
    "    # decide which buses will have solar panels (randomly select a percentage of buses)\n",
    "    num_solar_buses = max(1, int(num_buses * solar_penetration))\n",
    "    solar_buses = local_rng.choice(net_sample.bus.index, size=num_solar_buses, replace=False)\n",
    "    \n",
    "    # calculate the solar power output for each selected bus\n",
    "    for bus in solar_buses:\n",
    "        #random max power capacity for this solar installation\n",
    "        solar_capacity = local_rng.uniform(0.5, max_solar_power)\n",
    "        \n",
    "        # power output based on time of day\n",
    "        p_solar = solar_power_function(time_hour, solar_capacity, random_factor=0.2)\n",
    "        \n",
    "        # static generator representing solar panel\n",
    "        pp.create_sgen(\n",
    "            net_sample, \n",
    "            bus=bus, \n",
    "            p_mw=p_solar, \n",
    "            q_mvar=0,  # Typically solar inverters operate at unity power factor\n",
    "            name=f\"Solar_{bus}\", \n",
    "            type=\"PV\"\n",
    "        )\n",
    "    \n",
    "    # Run power flow\n",
    "    try:\n",
    "        pp.runpp(net_sample)\n",
    "        if net_sample[\"converged\"]:\n",
    "            # Extract and return the data we want to save\n",
    "            bus_data = net_sample.res_bus[[\"vm_pu\", \"p_mw\", \"q_mvar\"]].values\n",
    "            line_data = net_sample.res_line[[\"p_from_mw\", \"q_from_mvar\", \"p_to_mw\", \"q_to_mvar\"]].values\n",
    "            \n",
    "            # Extract solar generation data\n",
    "            solar_data = None\n",
    "            if len(net_sample.sgen) > 0:\n",
    "                solar_data = {\n",
    "                    \"bus\": net_sample.sgen[\"bus\"].values,\n",
    "                    \"p_mw\": net_sample.sgen[\"p_mw\"].values,\n",
    "                    \"q_mvar\": net_sample.sgen[\"q_mvar\"].values\n",
    "                }\n",
    "            \n",
    "            return {\n",
    "                \"sample_id\": sample_id,\n",
    "                \"time_hour\": time_hour,\n",
    "                \"converged\": True,\n",
    "                \"bus_data\": bus_data,\n",
    "                \"line_data\": line_data,\n",
    "                \"solar_data\": solar_data\n",
    "            }\n",
    "        else:\n",
    "            print(f\"Sample {sample_id}, Time {time_hour}h: Power flow did not converge.\")\n",
    "            return {\"sample_id\": sample_id, \"time_hour\": time_hour, \"converged\": False}\n",
    "    except pp.LoadflowNotConverged:\n",
    "        print(f\"Sample {sample_id}, Time {time_hour}h: LoadflowNotConverged exception.\")\n",
    "        return {\"sample_id\": sample_id, \"time_hour\": time_hour, \"converged\": False}\n",
    "    except Exception as e:\n",
    "        print(f\"Sample {sample_id}, Time {time_hour}h: Unexpected error: {str(e)}\")\n",
    "        return {\"sample_id\": sample_id, \"time_hour\": time_hour, \"converged\": False} "
   ]
  },
  {
   "cell_type": "code",
   "execution_count": null,
   "metadata": {},
   "outputs": [],
   "source": [
    "def save_result_with_time(result, case_name, output_dir=\"data\"):\n",
    "    \"\"\"Save the results of a single simulation with time if it converged\"\"\"\n",
    "    if not result[\"converged\"]:\n",
    "        return False\n",
    "    \n",
    "    sample_id = result[\"sample_id\"]\n",
    "    time_hour = result[\"time_hour\"]\n",
    "    \n",
    "    # Create output directory if it doesn't exist\n",
    "    os.makedirs(output_dir, exist_ok=True)\n",
    "    \n",
    "    # Save bus and line data with time indicator\n",
    "    np.save(f\"{output_dir}/case{case_name}_sample{sample_id}_bus_T_{time_hour:02d}.npy\", result[\"bus_data\"])\n",
    "    np.save(f\"{output_dir}/case{case_name}_sample{sample_id}_line_T_{time_hour:02d}.npy\", result[\"line_data\"])\n",
    "    \n",
    "    # Save solar data if available\n",
    "    if result[\"solar_data\"] is not None:\n",
    "        np.savez(f\"{output_dir}/case{case_name}_sample{sample_id}_solar_T_{time_hour:02d}.npz\", \n",
    "                bus=result[\"solar_data\"][\"bus\"], \n",
    "                p_mw=result[\"solar_data\"][\"p_mw\"], \n",
    "                q_mvar=result[\"solar_data\"][\"q_mvar\"])\n",
    "    \n",
    "    return True"
   ]
  }
 ],
 "metadata": {
  "kernelspec": {
   "display_name": "powerflow",
   "language": "python",
   "name": "python3"
  },
  "language_info": {
   "codemirror_mode": {
    "name": "ipython",
    "version": 3
   },
   "file_extension": ".py",
   "mimetype": "text/x-python",
   "name": "python",
   "nbconvert_exporter": "python",
   "pygments_lexer": "ipython3",
   "version": "3.10.16"
  }
 },
 "nbformat": 4,
 "nbformat_minor": 2
}
